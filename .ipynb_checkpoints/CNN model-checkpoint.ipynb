{
 "cells": [
  {
   "cell_type": "code",
   "execution_count": 1,
   "id": "63b4aae8",
   "metadata": {},
   "outputs": [
    {
     "name": "stdout",
     "output_type": "stream",
     "text": [
      "All Imported\n"
     ]
    }
   ],
   "source": [
    "import numpy as np\n",
    "import pandas as pd \n",
    "import random as rn\n",
    "\n",
    "# tensorflow\n",
    "import tensorflow.random as tfr\n",
    "import tensorflow.keras as keras\n",
    "from tensorflow.keras.models import Sequential, load_model\n",
    "from tensorflow.keras.layers import Dense, Dropout, Flatten, Lambda, Input\n",
    "from tensorflow.keras.layers import Conv2D, MaxPool2D, MaxPooling2D, BatchNormalization\n",
    "from keras.models import Model\n",
    "from keras.applications.vgg16 import VGG16\n",
    "from keras.applications.vgg16 import preprocess_input\n",
    "from keras.preprocessing import image\n",
    "from tensorflow.keras import backend as K\n",
    "from tensorflow.keras.utils import to_categorical\n",
    "from tensorflow.keras.optimizers import RMSprop, Adam\n",
    "from tensorflow.keras.preprocessing.image import ImageDataGenerator\n",
    "from tensorflow.keras.callbacks import EarlyStopping, ReduceLROnPlateau, ModelCheckpoint\n",
    "\n",
    "\n",
    "import matplotlib.pyplot as plt\n",
    "import matplotlib.image as mpimg\n",
    "\n",
    "import seaborn as sns\n",
    "\n",
    "from skimage import color, exposure\n",
    "from sklearn.metrics import classification_report\n",
    "\n",
    "import os\n",
    "import cv2\n",
    "\n",
    "# Setting the same seed for repeatability\n",
    "\n",
    "seed = 0\n",
    "\n",
    "np.random.seed(seed) \n",
    "rn.seed(seed)\n",
    "tfr.set_seed(seed)\n",
    "\n",
    "print(\"All Imported\")"
   ]
  },
  {
   "cell_type": "code",
   "execution_count": 6,
   "id": "f8e59aee",
   "metadata": {},
   "outputs": [],
   "source": [
    "data_path = 'Datasets/'\n",
    "train_path = 'Datasets/train/'\n",
    "test_path = 'Datasets/test/'\n",
    "val_path = 'Datasets/val/'"
   ]
  },
  {
   "cell_type": "code",
   "execution_count": 3,
   "id": "2e0cda00",
   "metadata": {},
   "outputs": [],
   "source": [
    "img_size = 200"
   ]
  },
  {
   "cell_type": "code",
   "execution_count": 7,
   "id": "0c8f6dc8",
   "metadata": {},
   "outputs": [],
   "source": [
    "def read_data(data_paths):\n",
    "    for data_path in data_paths:\n",
    "        labels = ['PNEUMONIA', 'NORMAL']\n",
    "        images = []\n",
    "        y = []\n",
    "        for label in labels:\n",
    "            curr_path = data_path + label\n",
    "            for img in os.listdir(curr_path):\n",
    "                if ('DS' not in img):\n",
    "                    image_path = os.path.join(curr_path, img)\n",
    "                    image =  cv2.resize(cv2.imread(image_path), (img_size, img_size))\n",
    "                    if image is not None:\n",
    "                        images.append([image, label])\n",
    "                \n",
    "    images = np.asarray(images)\n",
    "    return images"
   ]
  },
  {
   "cell_type": "code",
   "execution_count": 5,
   "id": "c74deac0",
   "metadata": {},
   "outputs": [
    {
     "ename": "FileNotFoundError",
     "evalue": "[WinError 3] The system cannot find the path specified: 'Datasets/trainPNEUMONIA'",
     "output_type": "error",
     "traceback": [
      "\u001b[1;31m---------------------------------------------------------------------------\u001b[0m",
      "\u001b[1;31mFileNotFoundError\u001b[0m                         Traceback (most recent call last)",
      "\u001b[1;32m~\\AppData\\Local\\Temp/ipykernel_15816/3438026419.py\u001b[0m in \u001b[0;36m<module>\u001b[1;34m\u001b[0m\n\u001b[1;32m----> 1\u001b[1;33m \u001b[0mtrain\u001b[0m \u001b[1;33m=\u001b[0m \u001b[0mread_data\u001b[0m\u001b[1;33m(\u001b[0m\u001b[1;33m[\u001b[0m\u001b[0mtrain_path\u001b[0m\u001b[1;33m]\u001b[0m\u001b[1;33m)\u001b[0m\u001b[1;33m\u001b[0m\u001b[1;33m\u001b[0m\u001b[0m\n\u001b[0m\u001b[0;32m      2\u001b[0m \u001b[0mtest\u001b[0m \u001b[1;33m=\u001b[0m \u001b[0mread_data\u001b[0m\u001b[1;33m(\u001b[0m\u001b[1;33m[\u001b[0m\u001b[0mval_path\u001b[0m\u001b[1;33m,\u001b[0m \u001b[0mtest_path\u001b[0m\u001b[1;33m]\u001b[0m\u001b[1;33m)\u001b[0m\u001b[1;33m\u001b[0m\u001b[1;33m\u001b[0m\u001b[0m\n",
      "\u001b[1;32m~\\AppData\\Local\\Temp/ipykernel_15816/1485154423.py\u001b[0m in \u001b[0;36mread_data\u001b[1;34m(data_paths)\u001b[0m\n\u001b[0;32m      6\u001b[0m         \u001b[1;32mfor\u001b[0m \u001b[0mlabel\u001b[0m \u001b[1;32min\u001b[0m \u001b[0mlabels\u001b[0m\u001b[1;33m:\u001b[0m\u001b[1;33m\u001b[0m\u001b[1;33m\u001b[0m\u001b[0m\n\u001b[0;32m      7\u001b[0m             \u001b[0mcurr_path\u001b[0m \u001b[1;33m=\u001b[0m \u001b[0mdata_path\u001b[0m \u001b[1;33m+\u001b[0m \u001b[0mlabel\u001b[0m\u001b[1;33m\u001b[0m\u001b[1;33m\u001b[0m\u001b[0m\n\u001b[1;32m----> 8\u001b[1;33m             \u001b[1;32mfor\u001b[0m \u001b[0mimg\u001b[0m \u001b[1;32min\u001b[0m \u001b[0mos\u001b[0m\u001b[1;33m.\u001b[0m\u001b[0mlistdir\u001b[0m\u001b[1;33m(\u001b[0m\u001b[0mcurr_path\u001b[0m\u001b[1;33m)\u001b[0m\u001b[1;33m:\u001b[0m\u001b[1;33m\u001b[0m\u001b[1;33m\u001b[0m\u001b[0m\n\u001b[0m\u001b[0;32m      9\u001b[0m                 \u001b[1;32mif\u001b[0m \u001b[1;33m(\u001b[0m\u001b[1;34m'DS'\u001b[0m \u001b[1;32mnot\u001b[0m \u001b[1;32min\u001b[0m \u001b[0mimg\u001b[0m\u001b[1;33m)\u001b[0m\u001b[1;33m:\u001b[0m\u001b[1;33m\u001b[0m\u001b[1;33m\u001b[0m\u001b[0m\n\u001b[0;32m     10\u001b[0m                     \u001b[0mimage_path\u001b[0m \u001b[1;33m=\u001b[0m \u001b[0mos\u001b[0m\u001b[1;33m.\u001b[0m\u001b[0mpath\u001b[0m\u001b[1;33m.\u001b[0m\u001b[0mjoin\u001b[0m\u001b[1;33m(\u001b[0m\u001b[0mcurr_path\u001b[0m\u001b[1;33m,\u001b[0m \u001b[0mimg\u001b[0m\u001b[1;33m)\u001b[0m\u001b[1;33m\u001b[0m\u001b[1;33m\u001b[0m\u001b[0m\n",
      "\u001b[1;31mFileNotFoundError\u001b[0m: [WinError 3] The system cannot find the path specified: 'Datasets/trainPNEUMONIA'"
     ]
    }
   ],
   "source": [
    "\n",
    "train = read_data([train_path])\n",
    "test = read_data([val_path, test_path])"
   ]
  },
  {
   "cell_type": "code",
   "execution_count": null,
   "id": "f5513671",
   "metadata": {},
   "outputs": [],
   "source": [
    "# Shuffle the data\n",
    "\n",
    "for i in range(10):\n",
    "    np.random.shuffle(train)\n",
    "    np.random.shuffle(test)"
   ]
  },
  {
   "cell_type": "code",
   "execution_count": null,
   "id": "f831b4dd",
   "metadata": {},
   "outputs": [],
   "source": [
    "train_df = pd.DataFrame(train, columns=['image', 'label'])\n",
    "test_df = pd.DataFrame(test, columns = ['image', 'label'])"
   ]
  },
  {
   "cell_type": "code",
   "execution_count": null,
   "id": "e5c4da93",
   "metadata": {},
   "outputs": [],
   "source": [
    "train_df['label'].head()"
   ]
  },
  {
   "cell_type": "code",
   "execution_count": null,
   "id": "1840e094",
   "metadata": {},
   "outputs": [],
   "source": []
  }
 ],
 "metadata": {
  "kernelspec": {
   "display_name": "Python 3 (ipykernel)",
   "language": "python",
   "name": "python3"
  },
  "language_info": {
   "codemirror_mode": {
    "name": "ipython",
    "version": 3
   },
   "file_extension": ".py",
   "mimetype": "text/x-python",
   "name": "python",
   "nbconvert_exporter": "python",
   "pygments_lexer": "ipython3",
   "version": "3.9.2"
  }
 },
 "nbformat": 4,
 "nbformat_minor": 5
}
