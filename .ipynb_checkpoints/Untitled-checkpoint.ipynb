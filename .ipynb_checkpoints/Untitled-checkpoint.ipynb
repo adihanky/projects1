{
 "cells": [
  {
   "cell_type": "code",
   "execution_count": 1,
   "id": "414003f9",
   "metadata": {},
   "outputs": [],
   "source": [
    "import cv2\n",
    "import tensorflow\n",
    "\n",
    "CATEGORIES = [\"Normal\",\"Pneumonia\"]\n",
    "def prepare(filepath):\n",
    "    IMG_SIZE = 200\n",
    "    img_array = cv2.imread(filepath, cv2.IMREAD_COLOR)\n",
    "    new_array = cv2.resize(img_array, (IMG_SIZE,IMG_SIZE))\n",
    "    return new_array.reshape(-3,IMG_SIZE,IMG_SIZE,3)\n",
    "model = tensorflow.keras.models.load_model(\"CNN_model.hdf5\")\n"
   ]
  },
  {
   "cell_type": "code",
   "execution_count": null,
   "id": "6243eb52",
   "metadata": {},
   "outputs": [],
   "source": [
    "# prediction = model.predict([prepare('IM-0005-0001.jpeg')])\n"
   ]
  },
  {
   "cell_type": "code",
   "execution_count": null,
   "id": "5951b8b4",
   "metadata": {},
   "outputs": [],
   "source": []
  }
 ],
 "metadata": {
  "kernelspec": {
   "display_name": "Python 3 (ipykernel)",
   "language": "python",
   "name": "python3"
  },
  "language_info": {
   "codemirror_mode": {
    "name": "ipython",
    "version": 3
   },
   "file_extension": ".py",
   "mimetype": "text/x-python",
   "name": "python",
   "nbconvert_exporter": "python",
   "pygments_lexer": "ipython3",
   "version": "3.9.2"
  }
 },
 "nbformat": 4,
 "nbformat_minor": 5
}
