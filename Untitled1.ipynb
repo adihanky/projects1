{
 "cells": [
  {
   "cell_type": "code",
   "execution_count": 2,
   "id": "9e508eb3",
   "metadata": {
    "scrolled": true
   },
   "outputs": [
    {
     "name": "stdout",
     "output_type": "stream",
     "text": [
      "Covid-19/Pneumonia\n",
      "Normal\n",
      "Covid-19/Pneumonia\n",
      "Covid-19/Pneumonia\n",
      "Normal\n",
      "Covid-19/Pneumonia\n"
     ]
    }
   ],
   "source": [
    "import cv2\n",
    "import tensorflow\n",
    "\n",
    "CATEGORIES = [\"Normal\",\"Covid-19/Pneumonia\"]\n",
    "def prepare(filepath):\n",
    "    IMG_SIZE = 224\n",
    "    img_array = cv2.imread(filepath, cv2.IMREAD_COLOR)\n",
    "    new_array = cv2.resize(img_array, (IMG_SIZE,IMG_SIZE))\n",
    "    return new_array.reshape(-3,IMG_SIZE,IMG_SIZE,3)\n",
    "\n",
    "model = tensorflow.keras.models.load_model(\"model_vgg16.h5\")\n",
    "prediction = model.predict([prepare('IM-0005-0001.jpeg')])\n",
    "prediction1 = model.predict([prepare('IM-0025-0001.jpeg')])\n",
    "prediction2 = model.predict([prepare('person1_virus_6.jpeg')])\n",
    "prediction3 = model.predict([prepare('person1_virus_7.jpeg')])\n",
    "prediction4 = model.predict([prepare('person130_bacteria_627.jpeg')])\n",
    "prediction5 = model.predict([prepare('person1954_bacteria_4886.jpeg')])\n",
    "prediction6 = model.predict([prepare('NORMAL2-IM-1427-0001.jpeg')])\n",
    "prediction7 = model.predict([prepare('person1946_bacteria_4874.jpeg')])\n",
    "prediction8 = model.predict([prepare('NORMAL2-IM-1436-0001.jpeg')])\n",
    "prediction9 = model.predict([prepare('pneumonia.jpg')])\n",
    "\n",
    "# print(CATEGORIES[int(prediction[0][0])])\n",
    "def pred_cat(prediction):\n",
    "    if prediction[0][0] > 0. :\n",
    "        return CATEGORIES[0]\n",
    "    else:\n",
    "         return CATEGORIES[1]\n",
    "# print(pred_cat(prediction))\n",
    "# print(pred_cat(prediction2))\n",
    "# print(pred_cat(prediction3))\n",
    "# print(pred_cat(prediction1))\n",
    "print(pred_cat(prediction5))\n",
    "print(pred_cat(prediction6))\n",
    "print(pred_cat(prediction7))\n",
    "print(pred_cat(prediction4))\n",
    "print(pred_cat(prediction8))\n",
    "print(pred_cat(prediction9))\n",
    "\n",
    "# print(prediction1) \n",
    "# print(prediction2)\n",
    "# print(prediction3)\n",
    "# print(prediction4)\n",
    "# NORMAL2-IM-1427-0001\n",
    "# person1946_bacteria_4874"
   ]
  },
  {
   "cell_type": "code",
   "execution_count": 3,
   "id": "40a04a63",
   "metadata": {},
   "outputs": [
    {
     "name": "stdout",
     "output_type": "stream",
     "text": [
      "[[1.1666316e-24 1.0000000e+00]]\n"
     ]
    }
   ],
   "source": [
    "prediction1 = model.predict([prepare('IM-0025-0001.jpeg')])\n",
    "print(prediction)"
   ]
  },
  {
   "cell_type": "code",
   "execution_count": null,
   "id": "6668c5f2",
   "metadata": {},
   "outputs": [],
   "source": []
  }
 ],
 "metadata": {
  "kernelspec": {
   "display_name": "Python 3 (ipykernel)",
   "language": "python",
   "name": "python3"
  },
  "language_info": {
   "codemirror_mode": {
    "name": "ipython",
    "version": 3
   },
   "file_extension": ".py",
   "mimetype": "text/x-python",
   "name": "python",
   "nbconvert_exporter": "python",
   "pygments_lexer": "ipython3",
   "version": "3.9.2"
  }
 },
 "nbformat": 4,
 "nbformat_minor": 5
}
